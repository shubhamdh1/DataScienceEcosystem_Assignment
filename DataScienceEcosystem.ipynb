{
 "cells": [
  {
   "cell_type": "markdown",
   "id": "65fed2d4",
   "metadata": {},
   "source": [
    "Exercise 1: Create a Jupyter Notebook\n",
    "\n",
    "Create a new Jupyter notebook called DataScienceEcosystem.ipynb"
   ]
  },
  {
   "cell_type": "markdown",
   "id": "0dbf8a46",
   "metadata": {},
   "source": [
    "Exercise 2: Create markdown cell with title of the notebook\n",
    "Create a markdown cell with the title Data Science Tools and Ecosystem using H1 style heading.\n",
    "\n",
    "# Data Science Tools and Ecosystem"
   ]
  },
  {
   "cell_type": "markdown",
   "id": "51cac418",
   "metadata": {},
   "source": [
    "Exercise 3 - Create a markdown cell for an introduction\n"
   ]
  },
  {
   "cell_type": "markdown",
   "id": "285248cb",
   "metadata": {},
   "source": [
    "There are different tools used for datascience such as data management tools, Data intergration & transformation tools, Data Visulization tools, Model Building tools."
   ]
  },
  {
   "cell_type": "code",
   "execution_count": null,
   "id": "5e067a4f",
   "metadata": {},
   "outputs": [],
   "source": []
  },
  {
   "cell_type": "markdown",
   "id": "97cb541f",
   "metadata": {},
   "source": [
    "Exercise 4 - Create a markdown cell to list data science languages"
   ]
  },
  {
   "cell_type": "markdown",
   "id": "97f2f7cc",
   "metadata": {},
   "source": [
    "Some of the popular languages that Data Scientists use are:\n",
    "1. Python\n",
    "2. R\n",
    "3. Julia\n"
   ]
  },
  {
   "cell_type": "code",
   "execution_count": null,
   "id": "6b4625e3",
   "metadata": {},
   "outputs": [],
   "source": []
  },
  {
   "cell_type": "markdown",
   "id": "06678a6e",
   "metadata": {},
   "source": [
    "Exercise 5 - Create a markdown cell to list data science libraries"
   ]
  },
  {
   "cell_type": "markdown",
   "id": "3c7e38ba",
   "metadata": {},
   "source": [
    "Some of the commonly used libraries used by Data Scientists include\n",
    "1. Matplotlib\n",
    "2. Scikitlearn\n",
    "3. NumPy\n",
    "4. Pandas"
   ]
  },
  {
   "cell_type": "markdown",
   "id": "2f0b532b",
   "metadata": {},
   "source": [
    "Exercise 6 - Create a markdown cell with a table of Data Science tools\n",
    "| Data Science Tools |\n",
    "| :------------------: |\n",
    "| Jupyter |\n",
    "| Jupyter lab |\n",
    "| RStudio |\n",
    "| Spider |"
   ]
  },
  {
   "cell_type": "markdown",
   "id": "df2e2d91",
   "metadata": {},
   "source": [
    "Exercise 7 - Create a markdown cell introducing arithmetic expression examples\n",
    "\n",
    "### Below are a few examples of evaluating arithmetic expressions in Python\n"
   ]
  },
  {
   "cell_type": "code",
   "execution_count": null,
   "id": "b5de5f3d",
   "metadata": {},
   "outputs": [],
   "source": []
  },
  {
   "cell_type": "markdown",
   "id": "361a5425",
   "metadata": {},
   "source": [
    "Exercise 8 - Create a code cell to multiply and add numbers\n"
   ]
  },
  {
   "cell_type": "code",
   "execution_count": 1,
   "id": "00b2b6d5",
   "metadata": {},
   "outputs": [
    {
     "data": {
      "text/plain": [
       "17"
      ]
     },
     "execution_count": 1,
     "metadata": {},
     "output_type": "execute_result"
    }
   ],
   "source": [
    "(3*4)+5"
   ]
  },
  {
   "cell_type": "code",
   "execution_count": 2,
   "id": "1513d8a0",
   "metadata": {},
   "outputs": [
    {
     "data": {
      "text/plain": [
       "3.3333333333333335"
      ]
     },
     "execution_count": 2,
     "metadata": {},
     "output_type": "execute_result"
    }
   ],
   "source": [
    "#This will convert 200 minutes to hours by diving by 60\n",
    "200/60"
   ]
  },
  {
   "cell_type": "markdown",
   "id": "407f1de3",
   "metadata": {},
   "source": [
    "Exercise 10 - Insert a markdown cell to list Objectives\n",
    "\n",
    "Objectives:\n",
    "* **Python**\n",
    "* **R**\n",
    "* **Julia**\n",
    "* **Spark**\n"
   ]
  },
  {
   "cell_type": "markdown",
   "id": "5c82fc68",
   "metadata": {},
   "source": [
    "Exercise 11 - Create a markdown cell to indicate the Author's name\n",
    "\n",
    "## Author \n",
    "Shubham Hanjage"
   ]
  },
  {
   "cell_type": "code",
   "execution_count": null,
   "id": "a05738fc",
   "metadata": {},
   "outputs": [],
   "source": []
  }
 ],
 "metadata": {
  "kernelspec": {
   "display_name": "Python 3 (ipykernel)",
   "language": "python",
   "name": "python3"
  },
  "language_info": {
   "codemirror_mode": {
    "name": "ipython",
    "version": 3
   },
   "file_extension": ".py",
   "mimetype": "text/x-python",
   "name": "python",
   "nbconvert_exporter": "python",
   "pygments_lexer": "ipython3",
   "version": "3.10.9"
  }
 },
 "nbformat": 4,
 "nbformat_minor": 5
}
